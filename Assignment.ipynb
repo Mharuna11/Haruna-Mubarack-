{
 "cells": [
  {
   "cell_type": "code",
   "execution_count": 22,
   "id": "ab1a61f0",
   "metadata": {
    "scrolled": false
   },
   "outputs": [],
   "source": [
    "import numpy as np \n",
    "import matplotlib.pyplot as plt \n",
    "\n"
   ]
  },
  {
   "cell_type": "code",
   "execution_count": 25,
   "id": "5d207e03",
   "metadata": {},
   "outputs": [],
   "source": [
    "#Constants definition \n",
    "class One_Dimension:     \n",
    "     \n",
    "    def __initial__(self, a, b, V0, N): \n",
    "        self.N = N\n",
    "        self.a = a\n",
    "        self.b = b\n",
    "        self.V0 = V0\n",
    "             \n",
    "        self.x, self.dx = np.linspace(0, b, N, step= not(False))\n",
    "        self.V = np.zeros_like(self.x)\n",
    "        self.V[(self.x > a) and (self.x < b)] = V0\n",
    "\n",
    "    def EigenValue(self): # To calculate for EigenValues \n",
    "        d2dx2 = np.diag(-2*np.ones(self.N)) + np.diagonal(np.ones(self.N-1), 1) + np.diagonal(np.ones(self.N-1), -1)\n",
    "        d2dx2 /= self.dx**2\n",
    "        d2dx2[0, 0] = 0\n",
    "        d2dx2[-1, -1] = 0\n",
    "        H = -0.5*d2dx2 + np.diagonal(self.V)\n",
    "        self.E, self.psi = np.linalg.eigh(H)\n",
    "\n",
    "    def P_E(self): # Defining my potential energy function.\n",
    "        plt.plot(np.arange(len(self.E)), self.E, 'o-')\n",
    "        plt.xlabel('Energy Level')\n",
    "        plt.ylabel('Energy')\n",
    "\n",
    "    def Wavefunction(self, i): #Wave Function .\n",
    "       plt.plot(self.x, self.psi[:, i], label=f'E={self.E[i]:.2f}')\n",
    "       plt.xlabel('x')\n",
    "       plt.ylabel('Psi')\n",
    "       plt.legend()"
   ]
  },
  {
   "cell_type": "code",
   "execution_count": null,
   "id": "1f5a12b0",
   "metadata": {},
   "outputs": [],
   "source": [
    "PE_of_the_well=One_Dimension(0,1,10,100,1000)\n",
    "Potential_well.EigenValue()"
   ]
  },
  {
   "cell_type": "code",
   "execution_count": 37,
   "id": "8af5d237",
   "metadata": {},
   "outputs": [
    {
     "ename": "TypeError",
     "evalue": "One_Dimension() takes no arguments",
     "output_type": "error",
     "traceback": [
      "\u001b[1;31m---------------------------------------------------------------------------\u001b[0m",
      "\u001b[1;31mTypeError\u001b[0m                                 Traceback (most recent call last)",
      "Input \u001b[1;32mIn [37]\u001b[0m, in \u001b[0;36m<cell line: 1>\u001b[1;34m()\u001b[0m\n\u001b[0;32m      5\u001b[0m \u001b[38;5;28;01mfor\u001b[39;00m i, a \u001b[38;5;129;01min\u001b[39;00m \u001b[38;5;28menumerate\u001b[39m(a_values):\n\u001b[0;32m      6\u001b[0m     \u001b[38;5;28;01mfor\u001b[39;00m j, V0 \u001b[38;5;129;01min\u001b[39;00m \u001b[38;5;28menumerate\u001b[39m(V0_values):\n\u001b[1;32m----> 7\u001b[0m         system \u001b[38;5;241m=\u001b[39m \u001b[43mOne_Dimension\u001b[49m\u001b[43m(\u001b[49m\u001b[43ma\u001b[49m\u001b[38;5;241;43m=\u001b[39;49m\u001b[43ma\u001b[49m\u001b[43m,\u001b[49m\u001b[43m \u001b[49m\u001b[43mb\u001b[49m\u001b[38;5;241;43m=\u001b[39;49m\u001b[38;5;241;43m10\u001b[39;49m\u001b[43m,\u001b[49m\u001b[43m \u001b[49m\u001b[43mV0_values\u001b[49m\u001b[38;5;241;43m=\u001b[39;49m\u001b[43mV0_values\u001b[49m\u001b[43m,\u001b[49m\u001b[43m \u001b[49m\u001b[43mN\u001b[49m\u001b[38;5;241;43m=\u001b[39;49m\u001b[38;5;241;43m100\u001b[39;49m\u001b[43m)\u001b[49m\n\u001b[0;32m      8\u001b[0m         system\u001b[38;5;241m.\u001b[39mEigenValue()\n\u001b[0;32m      9\u001b[0m         axs[i, j]\u001b[38;5;241m.\u001b[39mplot(system\u001b[38;5;241m.\u001b[39mx, system\u001b[38;5;241m.\u001b[39mV)\n",
      "\u001b[1;31mTypeError\u001b[0m: One_Dimension() takes no arguments"
     ]
    },
    {
     "data": {
      "image/png": "[encoded data removed]",
      "text/plain": [
       "<Figure size 720x720 with 9 Axes>"
      ]
     },
     "metadata": {
      "needs_background": "light"
     },
     "output_type": "display_data"
    }
   ],
   "source": [
    "if __name__ == '__main__':\n",
    "    a_values = [0.01, 0.2, 0.3] \n",
    "    V0_values = [0.1, 2, 3]      \n",
    "    fig, axs = plt.subplots(len(a_values), len(V0_values), figsize=(10, 10))\n",
    "    for i, a in enumerate(a_values):\n",
    "        for j, V0 in enumerate(V0_values):\n",
    "            system = One_Dimension(a=a, b=10, V0_values=V0_values, N=100)\n",
    "            system.EigenValue()\n",
    "            axs[i, j].plot(system.x, system.V)\n",
    "            axs[i, j].set_title(f\"a={a},V0={V0}\")\n",
    "    plt.show()"
   ]
  },
  {
   "cell_type": "code",
   "execution_count": null,
   "id": "34559c43",
   "metadata": {},
   "outputs": [],
   "source": []
  }
 ],
 "metadata": {
  "kernelspec": {
   "display_name": "Python 3 (ipykernel)",
   "language": "python",
   "name": "python3"
  },
  "language_info": {
   "codemirror_mode": {
    "name": "ipython",
    "version": 3
   },
   "file_extension": ".py",
   "mimetype": "text/x-python",
   "name": "python",
   "nbconvert_exporter": "python",
   "pygments_lexer": "ipython3",
   "version": "3.9.12"
  }
 },
 "nbformat": 4,
 "nbformat_minor": 5
}
